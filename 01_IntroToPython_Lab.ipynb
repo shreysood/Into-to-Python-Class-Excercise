{
  "nbformat": 4,
  "nbformat_minor": 0,
  "metadata": {
    "colab": {
      "name": "01-IntroToPython_Lab.ipynb",
      "provenance": [],
      "collapsed_sections": [],
      "toc_visible": true,
      "include_colab_link": true
    },
    "kernelspec": {
      "name": "python3",
      "display_name": "Python 3"
    }
  },
  "cells": [
    {
      "cell_type": "markdown",
      "metadata": {
        "id": "view-in-github",
        "colab_type": "text"
      },
      "source": [
        "<a href=\"https://colab.research.google.com/github/shreysood/Into-to-Python-Class-Excercise/blob/main/01_IntroToPython_Lab.ipynb\" target=\"_parent\"><img src=\"https://colab.research.google.com/assets/colab-badge.svg\" alt=\"Open In Colab\"/></a>"
      ]
    },
    {
      "cell_type": "markdown",
      "metadata": {
        "id": "lhtWbX1WT5DB"
      },
      "source": [
        "# Intro to Python Lab\n",
        "1.   make a new private github project\n",
        "2.   Save this notebook to a that project\n",
        "3.   Answer the following python questions.\n",
        "4.   Then push the new version of this document to your github project\n",
        "5.   Share your github repository with one person from the class, ask them to share their repository with you too. \n",
        "6.   Check each other's code\n",
        "3.   At the end of the notebook of your peer, add a new Text Cell writing \"Well done!!\" and push it to their repository\n",
        "\n",
        "## WELL DONE!"
      ]
    },
    {
      "cell_type": "code",
      "metadata": {
        "id": "KtoaviMXUC5I"
      },
      "source": [
        "# STARTER CODE:\n",
        "x = \"Coding in python is so much fun! Python will be my new superpower!\"\n",
        "y = 3\n",
        "z = 3.0\n",
        "\n"
      ],
      "execution_count": null,
      "outputs": []
    },
    {
      "cell_type": "code",
      "metadata": {
        "id": "qRuImhtaTqqi",
        "colab": {
          "base_uri": "https://localhost:8080/"
        },
        "outputId": "0d481ebe-64de-44af-ff93-f5253300b5f1"
      },
      "source": [
        "# Q1:  \n",
        "# What is the type of the variable x\n",
        "# How many characters are there in the variable x? (You need to discover a new string function to answer this!)\n",
        "x = \"Coding in python is so much fun! Python will be my new superpower!\"\n",
        "y = 3\n",
        "z = 3.0\n",
        "a=type(x)\n",
        "b=len(x)\n",
        "print(a,b)\n"
      ],
      "execution_count": 2,
      "outputs": [
        {
          "output_type": "stream",
          "text": [
            "<class 'str'> 66\n"
          ],
          "name": "stdout"
        }
      ]
    },
    {
      "cell_type": "code",
      "metadata": {
        "id": "Xurjt-nzUPAt",
        "colab": {
          "base_uri": "https://localhost:8080/"
        },
        "outputId": "4fff0975-af34-414a-ec12-0e1d88963875"
      },
      "source": [
        "# Q2:  Print out the variable x in all upper case\n",
        "\n",
        "x = \"Coding in python is so much fun! Python will be my new superpower!\"\n",
        "c=x.upper()\n",
        "print(c)\n"
      ],
      "execution_count": 3,
      "outputs": [
        {
          "output_type": "stream",
          "text": [
            "CODING IN PYTHON IS SO MUCH FUN! PYTHON WILL BE MY NEW SUPERPOWER!\n"
          ],
          "name": "stdout"
        }
      ]
    },
    {
      "cell_type": "code",
      "metadata": {
        "id": "NpiDB0M7UPFH",
        "colab": {
          "base_uri": "https://localhost:8080/"
        },
        "outputId": "7ee4f539-0463-4acc-ee9c-cf2decdf30a6"
      },
      "source": [
        "# Q3:  Print the number of times the word python exists in the variable x.\n",
        "# HINT:  you may need to change the case to find the instances\n",
        "# Python is case sensitive.\n",
        "# You will also need to discover a new string function to answer this!\n",
        "\n",
        "x = \"Coding in python is so much fun! Python will be my new superpower!\"\n",
        "d=x.lower()\n",
        "print(d)\n",
        "d.count('python')\n",
        "\n",
        "\n",
        "\n"
      ],
      "execution_count": 11,
      "outputs": [
        {
          "output_type": "stream",
          "text": [
            "coding in python is so much fun! python will be my new superpower!\n"
          ],
          "name": "stdout"
        },
        {
          "output_type": "execute_result",
          "data": {
            "text/plain": [
              "2"
            ]
          },
          "metadata": {
            "tags": []
          },
          "execution_count": 11
        }
      ]
    },
    {
      "cell_type": "code",
      "metadata": {
        "id": "2Cv69LaAUPH8",
        "colab": {
          "base_uri": "https://localhost:8080/"
        },
        "outputId": "50c86a3e-e42c-4ab0-86c7-f13ae212f6a2"
      },
      "source": [
        "# Q4:  Are the variables y and z equal?\n",
        "x = \"Coding in python is so much fun! Python will be my new superpower!\"\n",
        "y = 3\n",
        "z = 3.0\n",
        "if y==z:\n",
        " print(\"True\")\n",
        "else:\n",
        " print(\"False\")\n",
        " \n",
        "\n"
      ],
      "execution_count": 20,
      "outputs": [
        {
          "output_type": "stream",
          "text": [
            "True\n"
          ],
          "name": "stdout"
        }
      ]
    },
    {
      "cell_type": "markdown",
      "metadata": {
        "id": "cvxXv1RrWGZr"
      },
      "source": [
        "# Question 5\n",
        "\n",
        "Below there are two blocks of code to help you get started with the last question. We will cover installing and importing modules later on, but below is a really awesome package that lets us parse news articles!"
      ]
    },
    {
      "cell_type": "code",
      "metadata": {
        "id": "6FVOaLfJUPKC",
        "colab": {
          "base_uri": "https://localhost:8080/"
        },
        "outputId": "0b76f0b4-6b4a-4bea-c158-d3803ceb55c6"
      },
      "source": [
        "# Q5 starter code 1:\n",
        "! pip install newspaper3k\n"
      ],
      "execution_count": 22,
      "outputs": [
        {
          "output_type": "stream",
          "text": [
            "Collecting newspaper3k\n",
            "\u001b[?25l  Downloading https://files.pythonhosted.org/packages/d7/b9/51afecb35bb61b188a4b44868001de348a0e8134b4dfa00ffc191567c4b9/newspaper3k-0.2.8-py3-none-any.whl (211kB)\n",
            "\u001b[K     |████████████████████████████████| 215kB 7.0MB/s \n",
            "\u001b[?25hRequirement already satisfied: PyYAML>=3.11 in /usr/local/lib/python3.7/dist-packages (from newspaper3k) (3.13)\n",
            "Requirement already satisfied: lxml>=3.6.0 in /usr/local/lib/python3.7/dist-packages (from newspaper3k) (4.2.6)\n",
            "Collecting tldextract>=2.0.1\n",
            "\u001b[?25l  Downloading https://files.pythonhosted.org/packages/7e/62/b6acd3129c5615b9860e670df07fd55b76175b63e6b7f68282c7cad38e9e/tldextract-3.1.0-py2.py3-none-any.whl (87kB)\n",
            "\u001b[K     |████████████████████████████████| 92kB 7.6MB/s \n",
            "\u001b[?25hCollecting cssselect>=0.9.2\n",
            "  Downloading https://files.pythonhosted.org/packages/3b/d4/3b5c17f00cce85b9a1e6f91096e1cc8e8ede2e1be8e96b87ce1ed09e92c5/cssselect-1.1.0-py2.py3-none-any.whl\n",
            "Requirement already satisfied: requests>=2.10.0 in /usr/local/lib/python3.7/dist-packages (from newspaper3k) (2.23.0)\n",
            "Requirement already satisfied: python-dateutil>=2.5.3 in /usr/local/lib/python3.7/dist-packages (from newspaper3k) (2.8.1)\n",
            "Requirement already satisfied: nltk>=3.2.1 in /usr/local/lib/python3.7/dist-packages (from newspaper3k) (3.2.5)\n",
            "Collecting feedparser>=5.2.1\n",
            "\u001b[?25l  Downloading https://files.pythonhosted.org/packages/d8/b2/15bf6781a861bbc5dd801d467f26448fb322bfedcd30f2e62b148d104dfb/feedparser-6.0.8-py3-none-any.whl (81kB)\n",
            "\u001b[K     |████████████████████████████████| 81kB 8.6MB/s \n",
            "\u001b[?25hCollecting feedfinder2>=0.0.4\n",
            "  Downloading https://files.pythonhosted.org/packages/35/82/1251fefec3bb4b03fd966c7e7f7a41c9fc2bb00d823a34c13f847fd61406/feedfinder2-0.0.4.tar.gz\n",
            "Collecting jieba3k>=0.35.1\n",
            "\u001b[?25l  Downloading https://files.pythonhosted.org/packages/a9/cb/2c8332bcdc14d33b0bedd18ae0a4981a069c3513e445120da3c3f23a8aaa/jieba3k-0.35.1.zip (7.4MB)\n",
            "\u001b[K     |████████████████████████████████| 7.4MB 12.3MB/s \n",
            "\u001b[?25hRequirement already satisfied: beautifulsoup4>=4.4.1 in /usr/local/lib/python3.7/dist-packages (from newspaper3k) (4.6.3)\n",
            "Requirement already satisfied: Pillow>=3.3.0 in /usr/local/lib/python3.7/dist-packages (from newspaper3k) (7.1.2)\n",
            "Collecting tinysegmenter==0.3\n",
            "  Downloading https://files.pythonhosted.org/packages/17/82/86982e4b6d16e4febc79c2a1d68ee3b707e8a020c5d2bc4af8052d0f136a/tinysegmenter-0.3.tar.gz\n",
            "Collecting requests-file>=1.4\n",
            "  Downloading https://files.pythonhosted.org/packages/77/86/cdb5e8eaed90796aa83a6d9f75cfbd37af553c47a291cd47bc410ef9bdb2/requests_file-1.5.1-py2.py3-none-any.whl\n",
            "Requirement already satisfied: filelock>=3.0.8 in /usr/local/lib/python3.7/dist-packages (from tldextract>=2.0.1->newspaper3k) (3.0.12)\n",
            "Requirement already satisfied: idna in /usr/local/lib/python3.7/dist-packages (from tldextract>=2.0.1->newspaper3k) (2.10)\n",
            "Requirement already satisfied: certifi>=2017.4.17 in /usr/local/lib/python3.7/dist-packages (from requests>=2.10.0->newspaper3k) (2021.5.30)\n",
            "Requirement already satisfied: chardet<4,>=3.0.2 in /usr/local/lib/python3.7/dist-packages (from requests>=2.10.0->newspaper3k) (3.0.4)\n",
            "Requirement already satisfied: urllib3!=1.25.0,!=1.25.1,<1.26,>=1.21.1 in /usr/local/lib/python3.7/dist-packages (from requests>=2.10.0->newspaper3k) (1.24.3)\n",
            "Requirement already satisfied: six>=1.5 in /usr/local/lib/python3.7/dist-packages (from python-dateutil>=2.5.3->newspaper3k) (1.15.0)\n",
            "Collecting sgmllib3k\n",
            "  Downloading https://files.pythonhosted.org/packages/9e/bd/3704a8c3e0942d711c1299ebf7b9091930adae6675d7c8f476a7ce48653c/sgmllib3k-1.0.0.tar.gz\n",
            "Building wheels for collected packages: feedfinder2, jieba3k, tinysegmenter, sgmllib3k\n",
            "  Building wheel for feedfinder2 (setup.py) ... \u001b[?25l\u001b[?25hdone\n",
            "  Created wheel for feedfinder2: filename=feedfinder2-0.0.4-cp37-none-any.whl size=3358 sha256=403b16d10dd820a3211150b2e414286724ba852482834fbb41c223c50e5bf9a1\n",
            "  Stored in directory: /root/.cache/pip/wheels/de/03/ca/778e3a7a627e3d98836cc890e7cb40c7575424cfd3340f40ed\n",
            "  Building wheel for jieba3k (setup.py) ... \u001b[?25l\u001b[?25hdone\n",
            "  Created wheel for jieba3k: filename=jieba3k-0.35.1-cp37-none-any.whl size=7398404 sha256=322450804340e415fcadf1576a6113307a3e626186123222843df4df6f336ee1\n",
            "  Stored in directory: /root/.cache/pip/wheels/83/15/9c/a3f1f67e7f7181170ad37d32e503c35da20627c013f438ed34\n",
            "  Building wheel for tinysegmenter (setup.py) ... \u001b[?25l\u001b[?25hdone\n",
            "  Created wheel for tinysegmenter: filename=tinysegmenter-0.3-cp37-none-any.whl size=13553 sha256=3b8e15c77cd262402793c842e888f28a85375a09725c11a3defbd69fd895ab51\n",
            "  Stored in directory: /root/.cache/pip/wheels/81/2b/43/a02ede72324dd40cdd7ca53aad718c7710628e91b8b0dc0f02\n",
            "  Building wheel for sgmllib3k (setup.py) ... \u001b[?25l\u001b[?25hdone\n",
            "  Created wheel for sgmllib3k: filename=sgmllib3k-1.0.0-cp37-none-any.whl size=6067 sha256=126f3a98e2394f0aeb8e5b9bc991ae519dba32415e11518cc32d0eab3ab1f6e6\n",
            "  Stored in directory: /root/.cache/pip/wheels/f1/80/5a/444ba08a550cdd241bd9baf8bae44be750efe370adb944506a\n",
            "Successfully built feedfinder2 jieba3k tinysegmenter sgmllib3k\n",
            "Installing collected packages: requests-file, tldextract, cssselect, sgmllib3k, feedparser, feedfinder2, jieba3k, tinysegmenter, newspaper3k\n",
            "Successfully installed cssselect-1.1.0 feedfinder2-0.0.4 feedparser-6.0.8 jieba3k-0.35.1 newspaper3k-0.2.8 requests-file-1.5.1 sgmllib3k-1.0.0 tinysegmenter-0.3 tldextract-3.1.0\n"
          ],
          "name": "stdout"
        }
      ]
    },
    {
      "cell_type": "code",
      "metadata": {
        "id": "LdxhL0AJUPMH",
        "colab": {
          "base_uri": "https://localhost:8080/"
        },
        "outputId": "df75f97e-434e-4074-b141-d9ce7481710b"
      },
      "source": [
        "# Q5 starter code 2\n",
        "from newspaper import Article\n",
        "URL = \"https://www.boston.com/travel/travel/2020/09/18/logan-airport-contactless-food-delivery\"\n",
        "article = Article(URL)\n",
        "article.download()\n",
        "article.parse()\n",
        "article_text = article.text\n",
        "print(article_text)"
      ],
      "execution_count": 25,
      "outputs": [
        {
          "output_type": "stream",
          "text": [
            "Travel Logan Airport adds PPE vending machines, expands contactless food delivery American Airlines will also reopen its club lounge next month, with safety measures in place. Food being delivered at the airport by AtYourGate. MarketPlace Logan\n",
            "\n",
            "It is becoming easier for safety-conscious travelers at Logan International Airport to buy food and personal protective equipment amid the coronavirus pandemic.\n",
            "\n",
            "The airport installed PPE vending machines in July and is increasing contactless concession options through Grab and AtYourGate. In-airport app AtYourGate operates at 10 airports nationwide, including Logan, delivering food from airport restaurants such as B. GOOD, Not Your Average Joe’s, Lucca, WPizza, and more to travelers within 30 minutes. In June, AtYourGate partnered with airport e-commerce platform Grab, which means the program will expand this fall, according to Marketplace Logan.\n",
            "\n",
            "“As part of a collaboration between Grab and AtYourGate, passengers [at Logan] can now take advantage of pick-up or delivery options at their favorite eatery and select retail locations without having to download an app,” Binni Patel, marketing and customer service manager for Marketplace Logan, wrote in an e-mail. “Passengers will also be able to order from any participating location throughout the airport instead of just those available in their terminal.”\n",
            "\n",
            "Advertisement:\n",
            "\n",
            "Safety measures implemented among Logan concessions include social distancing signage, face covering requirements, contactless payment options, QR codes for restaurant menus, self-order kiosks at select eateries, plexiglass shields at registers, and more.\n",
            "\n",
            "The PPE vending machines, which offer items such masks, sanitary wipes, hand sanitizer, latex gloves, and thermometers, are located pre-security in Hudson stores and Terminals A and B.\n",
            "\n",
            "“We have made every effort to adjust and improve the Boston Logan Concessions Program to keep employees and passengers safe and healthy,” said Paul McGinn, president of MarketPlace Development, in a statement. “In collaboration with our partners at Massport we have not only made necessary adjustments but also introduced new pilot programs and technology to elevate the options available and further facilitate social distancing for our travelers.”\n",
            "\n",
            "Advertisement:\n",
            "\n",
            "Those flying with American Airlines will also notice a change in Terminal B this fall — the airline is reopening its Admirals Club lounge in October. The lounge is one of seven nationwide reopening next month and will open at 50 percent capacity, according to the airline.\n",
            "\n",
            "The lounge will offer complimentary “customer favorites” such as avocado toast and guacamole with chips served in disposable containers by employees in gloves and masks from behind protective acrylic screens, according to the airline. Travelers will also find pre-packaged cheese cubes, hummus, hard-boiled eggs, and fruit, as well as signature menu items accessible by QR code. Health and safety measures will include mandatory face coverings, glass shields, hand sanitizer stations, and more.\n",
            "\n",
            "Advertisement:\n"
          ],
          "name": "stdout"
        }
      ]
    },
    {
      "cell_type": "code",
      "metadata": {
        "id": "ZCHf2QfAN3Eb"
      },
      "source": [
        ""
      ],
      "execution_count": null,
      "outputs": []
    },
    {
      "cell_type": "code",
      "metadata": {
        "id": "LGApw9lRWSrw",
        "colab": {
          "base_uri": "https://localhost:8080/"
        },
        "outputId": "f89d78e1-a896-42f8-dc72-88f83a7d17d1"
      },
      "source": [
        "# Q5A:  print the variable article_text\n",
        "print(article_text)\n"
      ],
      "execution_count": 26,
      "outputs": [
        {
          "output_type": "stream",
          "text": [
            "Travel Logan Airport adds PPE vending machines, expands contactless food delivery American Airlines will also reopen its club lounge next month, with safety measures in place. Food being delivered at the airport by AtYourGate. MarketPlace Logan\n",
            "\n",
            "It is becoming easier for safety-conscious travelers at Logan International Airport to buy food and personal protective equipment amid the coronavirus pandemic.\n",
            "\n",
            "The airport installed PPE vending machines in July and is increasing contactless concession options through Grab and AtYourGate. In-airport app AtYourGate operates at 10 airports nationwide, including Logan, delivering food from airport restaurants such as B. GOOD, Not Your Average Joe’s, Lucca, WPizza, and more to travelers within 30 minutes. In June, AtYourGate partnered with airport e-commerce platform Grab, which means the program will expand this fall, according to Marketplace Logan.\n",
            "\n",
            "“As part of a collaboration between Grab and AtYourGate, passengers [at Logan] can now take advantage of pick-up or delivery options at their favorite eatery and select retail locations without having to download an app,” Binni Patel, marketing and customer service manager for Marketplace Logan, wrote in an e-mail. “Passengers will also be able to order from any participating location throughout the airport instead of just those available in their terminal.”\n",
            "\n",
            "Advertisement:\n",
            "\n",
            "Safety measures implemented among Logan concessions include social distancing signage, face covering requirements, contactless payment options, QR codes for restaurant menus, self-order kiosks at select eateries, plexiglass shields at registers, and more.\n",
            "\n",
            "The PPE vending machines, which offer items such masks, sanitary wipes, hand sanitizer, latex gloves, and thermometers, are located pre-security in Hudson stores and Terminals A and B.\n",
            "\n",
            "“We have made every effort to adjust and improve the Boston Logan Concessions Program to keep employees and passengers safe and healthy,” said Paul McGinn, president of MarketPlace Development, in a statement. “In collaboration with our partners at Massport we have not only made necessary adjustments but also introduced new pilot programs and technology to elevate the options available and further facilitate social distancing for our travelers.”\n",
            "\n",
            "Advertisement:\n",
            "\n",
            "Those flying with American Airlines will also notice a change in Terminal B this fall — the airline is reopening its Admirals Club lounge in October. The lounge is one of seven nationwide reopening next month and will open at 50 percent capacity, according to the airline.\n",
            "\n",
            "The lounge will offer complimentary “customer favorites” such as avocado toast and guacamole with chips served in disposable containers by employees in gloves and masks from behind protective acrylic screens, according to the airline. Travelers will also find pre-packaged cheese cubes, hummus, hard-boiled eggs, and fruit, as well as signature menu items accessible by QR code. Health and safety measures will include mandatory face coverings, glass shields, hand sanitizer stations, and more.\n",
            "\n",
            "Advertisement:\n"
          ],
          "name": "stdout"
        }
      ]
    },
    {
      "cell_type": "code",
      "metadata": {
        "id": "fSdeQQwvWUfh",
        "colab": {
          "base_uri": "https://localhost:8080/"
        },
        "outputId": "44941858-f30d-436f-892d-ebd71103abf5"
      },
      "source": [
        "# Q5B: What is the data type for article_text?\n",
        "type(article_text)"
      ],
      "execution_count": 27,
      "outputs": [
        {
          "output_type": "execute_result",
          "data": {
            "text/plain": [
              "str"
            ]
          },
          "metadata": {
            "tags": []
          },
          "execution_count": 27
        }
      ]
    },
    {
      "cell_type": "code",
      "metadata": {
        "id": "ml0rqY2TWcOE",
        "colab": {
          "base_uri": "https://localhost:8080/"
        },
        "outputId": "f07f46a4-fa31-47d6-83ba-28e2e921a943"
      },
      "source": [
        "# Q5C: Save the lower case version of article text to a new variable, article_lower\n",
        "article_lower=article_text.lower()\n",
        "print(article_lower)\n",
        "\n",
        "\n"
      ],
      "execution_count": 35,
      "outputs": [
        {
          "output_type": "stream",
          "text": [
            "travel logan airport adds ppe vending machines, expands contactless food delivery american airlines will also reopen its club lounge next month, with safety measures in place. food being delivered at the airport by atyourgate. marketplace logan\n",
            "\n",
            "it is becoming easier for safety-conscious travelers at logan international airport to buy food and personal protective equipment amid the coronavirus pandemic.\n",
            "\n",
            "the airport installed ppe vending machines in july and is increasing contactless concession options through grab and atyourgate. in-airport app atyourgate operates at 10 airports nationwide, including logan, delivering food from airport restaurants such as b. good, not your average joe’s, lucca, wpizza, and more to travelers within 30 minutes. in june, atyourgate partnered with airport e-commerce platform grab, which means the program will expand this fall, according to marketplace logan.\n",
            "\n",
            "“as part of a collaboration between grab and atyourgate, passengers [at logan] can now take advantage of pick-up or delivery options at their favorite eatery and select retail locations without having to download an app,” binni patel, marketing and customer service manager for marketplace logan, wrote in an e-mail. “passengers will also be able to order from any participating location throughout the airport instead of just those available in their terminal.”\n",
            "\n",
            "advertisement:\n",
            "\n",
            "safety measures implemented among logan concessions include social distancing signage, face covering requirements, contactless payment options, qr codes for restaurant menus, self-order kiosks at select eateries, plexiglass shields at registers, and more.\n",
            "\n",
            "the ppe vending machines, which offer items such masks, sanitary wipes, hand sanitizer, latex gloves, and thermometers, are located pre-security in hudson stores and terminals a and b.\n",
            "\n",
            "“we have made every effort to adjust and improve the boston logan concessions program to keep employees and passengers safe and healthy,” said paul mcginn, president of marketplace development, in a statement. “in collaboration with our partners at massport we have not only made necessary adjustments but also introduced new pilot programs and technology to elevate the options available and further facilitate social distancing for our travelers.”\n",
            "\n",
            "advertisement:\n",
            "\n",
            "those flying with american airlines will also notice a change in terminal b this fall — the airline is reopening its admirals club lounge in october. the lounge is one of seven nationwide reopening next month and will open at 50 percent capacity, according to the airline.\n",
            "\n",
            "the lounge will offer complimentary “customer favorites” such as avocado toast and guacamole with chips served in disposable containers by employees in gloves and masks from behind protective acrylic screens, according to the airline. travelers will also find pre-packaged cheese cubes, hummus, hard-boiled eggs, and fruit, as well as signature menu items accessible by qr code. health and safety measures will include mandatory face coverings, glass shields, hand sanitizer stations, and more.\n",
            "\n",
            "advertisement:\n"
          ],
          "name": "stdout"
        }
      ]
    },
    {
      "cell_type": "code",
      "metadata": {
        "id": "_9EBZHT6W9i7",
        "colab": {
          "base_uri": "https://localhost:8080/"
        },
        "outputId": "05a5d55a-b48f-4cef-b745-07db77270514"
      },
      "source": [
        "# Q5D: How many times does the word Logan appear in the variable article_lower?\n",
        "\n",
        "article_lower=article_text.lower()\n",
        "article_lower.count('Logan')"
      ],
      "execution_count": 36,
      "outputs": [
        {
          "output_type": "execute_result",
          "data": {
            "text/plain": [
              "0"
            ]
          },
          "metadata": {
            "tags": []
          },
          "execution_count": 36
        }
      ]
    },
    {
      "cell_type": "code",
      "metadata": {
        "id": "izFynTlRXD7c"
      },
      "source": [
        ""
      ],
      "execution_count": null,
      "outputs": []
    }
  ]
}
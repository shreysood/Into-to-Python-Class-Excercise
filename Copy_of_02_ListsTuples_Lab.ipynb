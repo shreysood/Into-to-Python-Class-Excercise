{
  "nbformat": 4,
  "nbformat_minor": 0,
  "metadata": {
    "colab": {
      "name": "Copy of 02-ListsTuples_Lab.ipynb",
      "provenance": [],
      "collapsed_sections": []
    },
    "kernelspec": {
      "name": "python3",
      "display_name": "Python 3"
    }
  },
  "cells": [
    {
      "cell_type": "markdown",
      "metadata": {
        "id": "pE2044bBAk0X"
      },
      "source": [
        "# Lab Exercise \n",
        "\n",
        "Complete the questions below as part of the Lab exercises."
      ]
    },
    {
      "cell_type": "markdown",
      "metadata": {
        "id": "jUJXLHTeAebu"
      },
      "source": [
        "# Part 1\n",
        "\n",
        "After running the starter code, complete the questions below."
      ]
    },
    {
      "cell_type": "code",
      "metadata": {
        "id": "C-XRQaWBAvEC",
        "colab": {
          "base_uri": "https://localhost:8080/"
        },
        "outputId": "74202044-3e1d-4c27-9153-f0807f861eff"
      },
      "source": [
        "# STARTER CODE 1\n",
        "! pip install newspaper3k"
      ],
      "execution_count": null,
      "outputs": [
        {
          "output_type": "stream",
          "text": [
            "Collecting newspaper3k\n",
            "\u001b[?25l  Downloading https://files.pythonhosted.org/packages/d7/b9/51afecb35bb61b188a4b44868001de348a0e8134b4dfa00ffc191567c4b9/newspaper3k-0.2.8-py3-none-any.whl (211kB)\n",
            "\r\u001b[K     |█▌                              | 10kB 16.1MB/s eta 0:00:01\r\u001b[K     |███                             | 20kB 20.8MB/s eta 0:00:01\r\u001b[K     |████▋                           | 30kB 16.8MB/s eta 0:00:01\r\u001b[K     |██████▏                         | 40kB 14.9MB/s eta 0:00:01\r\u001b[K     |███████▊                        | 51kB 7.3MB/s eta 0:00:01\r\u001b[K     |█████████▎                      | 61kB 8.4MB/s eta 0:00:01\r\u001b[K     |██████████▉                     | 71kB 8.0MB/s eta 0:00:01\r\u001b[K     |████████████▍                   | 81kB 8.8MB/s eta 0:00:01\r\u001b[K     |██████████████                  | 92kB 9.4MB/s eta 0:00:01\r\u001b[K     |███████████████▌                | 102kB 7.7MB/s eta 0:00:01\r\u001b[K     |█████████████████               | 112kB 7.7MB/s eta 0:00:01\r\u001b[K     |██████████████████▋             | 122kB 7.7MB/s eta 0:00:01\r\u001b[K     |████████████████████▏           | 133kB 7.7MB/s eta 0:00:01\r\u001b[K     |█████████████████████▊          | 143kB 7.7MB/s eta 0:00:01\r\u001b[K     |███████████████████████▎        | 153kB 7.7MB/s eta 0:00:01\r\u001b[K     |████████████████████████▉       | 163kB 7.7MB/s eta 0:00:01\r\u001b[K     |██████████████████████████▍     | 174kB 7.7MB/s eta 0:00:01\r\u001b[K     |████████████████████████████    | 184kB 7.7MB/s eta 0:00:01\r\u001b[K     |█████████████████████████████▌  | 194kB 7.7MB/s eta 0:00:01\r\u001b[K     |███████████████████████████████ | 204kB 7.7MB/s eta 0:00:01\r\u001b[K     |████████████████████████████████| 215kB 7.7MB/s \n",
            "\u001b[?25hCollecting cssselect>=0.9.2\n",
            "  Downloading https://files.pythonhosted.org/packages/3b/d4/3b5c17f00cce85b9a1e6f91096e1cc8e8ede2e1be8e96b87ce1ed09e92c5/cssselect-1.1.0-py2.py3-none-any.whl\n",
            "Requirement already satisfied: beautifulsoup4>=4.4.1 in /usr/local/lib/python3.7/dist-packages (from newspaper3k) (4.6.3)\n",
            "Requirement already satisfied: requests>=2.10.0 in /usr/local/lib/python3.7/dist-packages (from newspaper3k) (2.23.0)\n",
            "Collecting tinysegmenter==0.3\n",
            "  Downloading https://files.pythonhosted.org/packages/17/82/86982e4b6d16e4febc79c2a1d68ee3b707e8a020c5d2bc4af8052d0f136a/tinysegmenter-0.3.tar.gz\n",
            "Requirement already satisfied: Pillow>=3.3.0 in /usr/local/lib/python3.7/dist-packages (from newspaper3k) (7.1.2)\n",
            "Collecting feedfinder2>=0.0.4\n",
            "  Downloading https://files.pythonhosted.org/packages/35/82/1251fefec3bb4b03fd966c7e7f7a41c9fc2bb00d823a34c13f847fd61406/feedfinder2-0.0.4.tar.gz\n",
            "Collecting jieba3k>=0.35.1\n",
            "\u001b[?25l  Downloading https://files.pythonhosted.org/packages/a9/cb/2c8332bcdc14d33b0bedd18ae0a4981a069c3513e445120da3c3f23a8aaa/jieba3k-0.35.1.zip (7.4MB)\n",
            "\u001b[K     |████████████████████████████████| 7.4MB 9.2MB/s \n",
            "\u001b[?25hCollecting tldextract>=2.0.1\n",
            "\u001b[?25l  Downloading https://files.pythonhosted.org/packages/7e/62/b6acd3129c5615b9860e670df07fd55b76175b63e6b7f68282c7cad38e9e/tldextract-3.1.0-py2.py3-none-any.whl (87kB)\n",
            "\u001b[K     |████████████████████████████████| 92kB 4.8MB/s \n",
            "\u001b[?25hRequirement already satisfied: PyYAML>=3.11 in /usr/local/lib/python3.7/dist-packages (from newspaper3k) (3.13)\n",
            "Requirement already satisfied: nltk>=3.2.1 in /usr/local/lib/python3.7/dist-packages (from newspaper3k) (3.2.5)\n",
            "Requirement already satisfied: lxml>=3.6.0 in /usr/local/lib/python3.7/dist-packages (from newspaper3k) (4.2.6)\n",
            "Requirement already satisfied: python-dateutil>=2.5.3 in /usr/local/lib/python3.7/dist-packages (from newspaper3k) (2.8.1)\n",
            "Collecting feedparser>=5.2.1\n",
            "\u001b[?25l  Downloading https://files.pythonhosted.org/packages/d8/b2/15bf6781a861bbc5dd801d467f26448fb322bfedcd30f2e62b148d104dfb/feedparser-6.0.8-py3-none-any.whl (81kB)\n",
            "\u001b[K     |████████████████████████████████| 81kB 10.7MB/s \n",
            "\u001b[?25hRequirement already satisfied: urllib3!=1.25.0,!=1.25.1,<1.26,>=1.21.1 in /usr/local/lib/python3.7/dist-packages (from requests>=2.10.0->newspaper3k) (1.24.3)\n",
            "Requirement already satisfied: chardet<4,>=3.0.2 in /usr/local/lib/python3.7/dist-packages (from requests>=2.10.0->newspaper3k) (3.0.4)\n",
            "Requirement already satisfied: idna<3,>=2.5 in /usr/local/lib/python3.7/dist-packages (from requests>=2.10.0->newspaper3k) (2.10)\n",
            "Requirement already satisfied: certifi>=2017.4.17 in /usr/local/lib/python3.7/dist-packages (from requests>=2.10.0->newspaper3k) (2021.5.30)\n",
            "Requirement already satisfied: six in /usr/local/lib/python3.7/dist-packages (from feedfinder2>=0.0.4->newspaper3k) (1.15.0)\n",
            "Requirement already satisfied: filelock>=3.0.8 in /usr/local/lib/python3.7/dist-packages (from tldextract>=2.0.1->newspaper3k) (3.0.12)\n",
            "Collecting requests-file>=1.4\n",
            "  Downloading https://files.pythonhosted.org/packages/77/86/cdb5e8eaed90796aa83a6d9f75cfbd37af553c47a291cd47bc410ef9bdb2/requests_file-1.5.1-py2.py3-none-any.whl\n",
            "Collecting sgmllib3k\n",
            "  Downloading https://files.pythonhosted.org/packages/9e/bd/3704a8c3e0942d711c1299ebf7b9091930adae6675d7c8f476a7ce48653c/sgmllib3k-1.0.0.tar.gz\n",
            "Building wheels for collected packages: tinysegmenter, feedfinder2, jieba3k, sgmllib3k\n",
            "  Building wheel for tinysegmenter (setup.py) ... \u001b[?25l\u001b[?25hdone\n",
            "  Created wheel for tinysegmenter: filename=tinysegmenter-0.3-cp37-none-any.whl size=13553 sha256=f4d7fd07b5f10e5839a55292140664e47bdca2d102e9ee19db94b2314de12ee1\n",
            "  Stored in directory: /root/.cache/pip/wheels/81/2b/43/a02ede72324dd40cdd7ca53aad718c7710628e91b8b0dc0f02\n",
            "  Building wheel for feedfinder2 (setup.py) ... \u001b[?25l\u001b[?25hdone\n",
            "  Created wheel for feedfinder2: filename=feedfinder2-0.0.4-cp37-none-any.whl size=3358 sha256=1bfd792671d20b1c2a306f9a3b63913b0336dda84620ac1d384b1539298d062d\n",
            "  Stored in directory: /root/.cache/pip/wheels/de/03/ca/778e3a7a627e3d98836cc890e7cb40c7575424cfd3340f40ed\n",
            "  Building wheel for jieba3k (setup.py) ... \u001b[?25l\u001b[?25hdone\n",
            "  Created wheel for jieba3k: filename=jieba3k-0.35.1-cp37-none-any.whl size=7398404 sha256=6591acbac8bc1cb756f34cee35f3545f756219a41aefffd31b745489d805ab47\n",
            "  Stored in directory: /root/.cache/pip/wheels/83/15/9c/a3f1f67e7f7181170ad37d32e503c35da20627c013f438ed34\n",
            "  Building wheel for sgmllib3k (setup.py) ... \u001b[?25l\u001b[?25hdone\n",
            "  Created wheel for sgmllib3k: filename=sgmllib3k-1.0.0-cp37-none-any.whl size=6067 sha256=0c8e4a3610187142ed1c8bc915b36380c9497ac29e31c19752a3b837e208ac48\n",
            "  Stored in directory: /root/.cache/pip/wheels/f1/80/5a/444ba08a550cdd241bd9baf8bae44be750efe370adb944506a\n",
            "Successfully built tinysegmenter feedfinder2 jieba3k sgmllib3k\n",
            "Installing collected packages: cssselect, tinysegmenter, feedfinder2, jieba3k, requests-file, tldextract, sgmllib3k, feedparser, newspaper3k\n",
            "Successfully installed cssselect-1.1.0 feedfinder2-0.0.4 feedparser-6.0.8 jieba3k-0.35.1 newspaper3k-0.2.8 requests-file-1.5.1 sgmllib3k-1.0.0 tinysegmenter-0.3 tldextract-3.1.0\n"
          ],
          "name": "stdout"
        }
      ]
    },
    {
      "cell_type": "code",
      "metadata": {
        "id": "E5p_iRiiA0lm"
      },
      "source": [
        "# STARTER CODE 1\n",
        "from newspaper import Article\n",
        "URL = \"https://www.boston.com/travel/travel/2020/09/16/best-apple-orchard-according-to-readers\"\n",
        "article = Article(URL)\n",
        "article.download()\n",
        "article.parse()\n",
        "article_text = article.text"
      ],
      "execution_count": null,
      "outputs": []
    },
    {
      "cell_type": "code",
      "metadata": {
        "id": "SS60gwDzQyna",
        "colab": {
          "base_uri": "https://localhost:8080/"
        },
        "outputId": "d562328d-f707-4199-e7ee-7a6c46bce077"
      },
      "source": [
        "# Q1: print out the article_text variable. This is the variable we will be using.\n",
        "from newspaper import Article\n",
        "URL = \"https://www.boston.com/travel/travel/2020/09/16/best-apple-orchard-according-to-readers\"\n",
        "article = Article(URL)\n",
        "article.download()\n",
        "article.parse()\n",
        "article_text = article.text\n",
        "print(article_text)"
      ],
      "execution_count": null,
      "outputs": [
        {
          "output_type": "stream",
          "text": [
            "Travel The best apple orchard in New England, according to Boston.com readers It's in Massachusetts. A family picking apples at Honey Pot Hill Orchards in Stow in 2017. John Tlumacki / The Boston Globe\n",
            "\n",
            "When we asked Boston.com readers for the best places to pick apples in New England, more than 100 people named nearly 40 farms across five states. But there was one clear favorite.\n",
            "\n",
            "Honey Pot Hill Orchards in Stow, which received the most mentions by far, offers more than 200 acres of orchards, as well as hayrides, mazes, and farm animals. The next most most mentioned farms by readers: Parlee Farms in Tyngsborough and Russell Orchards in Ipswich.\n",
            "\n",
            "“The apple cider donuts are amazing,” wrote a Boston.com reader about Honey Pot Hill Orchards. “They have a petting zoo for the kids and also a pumpkin patch where you can pick your own pumpkin. Great place.”\n",
            "\n",
            "Advertisement:\n",
            "\n",
            "Two of the farms chosen by readers — Tougas Family Farm in Northborough and Libby & Son U-Picks in Limerick, Maine, were just named among the best apple orchards in America by USA Today.\n",
            "\n",
            "Before plotting your apple-picking adventure this season, it’s a good idea to visit a farm’s website due to COVID-19 restrictions that may include capacity limitations, reservation requirements, and more.\n",
            "\n",
            "Ahead, check out which regional farms Boston.com readers love the most. If there’s a number in parenthesis after the name of a farm, it signifies how many times the farm was chosen by readers as the best.\n",
            "\n",
            "Massachusetts\n",
            "\n",
            "Autumn Hills Orchard in Groton\n",
            "\n",
            "Bartlett’s Orchard in Richmond\n",
            "\n",
            "Belkin Family Lookout Farm in Natick (6)\n",
            "\n",
            "Berlin Orchards in Berlin (2)\n",
            "\n",
            "Bolton Orchards in Bolton (3)\n",
            "\n",
            "Bolton Spring Farms in Bolton (3)\n",
            "\n",
            "Brookfield Orchards in North Brookfield\n",
            "\n",
            "Brooksby Farm in Peabody (2)\n",
            "\n",
            "Carlson Orchards in Harvard (5)\n",
            "\n",
            "Cider Hill Farm in Amesbury (5)\n",
            "\n",
            "Clarkdale Fruit Farms in Deerfield (3)\n",
            "\n",
            "Clearview Farm in Sterling\n",
            "\n",
            "CN Smith Farm in East Bridgewater\n",
            "\n",
            "Doe Orchards in Harvard (5)\n",
            "\n",
            "Dowse Orchards in Sherborn\n",
            "\n",
            "Honey Pot Hill Orchards in Stow (26)\n",
            "\n",
            "Park Hill Orchard in Easthampton (2)\n",
            "\n",
            "Parlee Farms in Tyngsborough (9)\n",
            "\n",
            "Red Apple Farm in Phillipston (4)\n",
            "\n",
            "Russell Orchards in Ipswich (8)\n",
            "\n",
            "Shelburne Farm in Stow (6)\n",
            "\n",
            "Smolak Farms in North Andover (5)\n",
            "\n",
            "Tangerini’s Farm in Millis\n",
            "\n",
            "The Big Apple in Wrentham (3)\n",
            "\n",
            "Tougas Family Farm in Northborough (7)\n",
            "\n",
            "Westward Orchards in Harvard\n",
            "\n",
            "New Hampshire\n",
            "\n",
            "Alyson’s Orchard in Walpole (2)\n",
            "\n",
            "Applecrest Farm Orchards in Hampton Falls (7)\n",
            "\n",
            "Appleview Orchard in Pittsfield\n",
            "\n",
            "Brookdale Fruit Farm in Hollis\n",
            "\n",
            "Lull Farm in Hollis (2)\n",
            "\n",
            "Mack’s Apples in Londonderry (6)\n",
            "\n",
            "Vermont\n",
            "\n",
            "Chapin Orchard in Essex Junction\n",
            "\n",
            "Shelburne Orchards in Shelburne\n",
            "\n",
            "Maine\n",
            "\n",
            "Hope Orchards in Hope\n",
            "\n",
            "Libby & Son U-Picks in Limerick\n",
            "\n",
            "McDougal Orchards in Springvale\n",
            "\n",
            "Rhode Island\n",
            "\n",
            "Barden Family Orchard in North Scituate\n",
            "\n",
            "Advertisement:\n",
            "\n",
            "Did we miss any? Let us know your favorite in the comments below.\n"
          ],
          "name": "stdout"
        }
      ]
    },
    {
      "cell_type": "code",
      "metadata": {
        "id": "j1dOPKBGQ16h"
      },
      "source": [
        "# Q2: how many times does the word apple appear across any case (upper or lower)?\n",
        "a=article_text.count('apple')\n",
        "b=article_text.count('Apple')\n",
        "print(a+b)\n",
        "\n"
      ],
      "execution_count": null,
      "outputs": []
    },
    {
      "cell_type": "code",
      "metadata": {
        "id": "bTtgcBkBRSQQ",
        "colab": {
          "base_uri": "https://localhost:8080/"
        },
        "outputId": "c4ae14a1-6f8e-411c-aa43-fc1b5ca7d33a"
      },
      "source": [
        "# Q3: how many individual words are there?\n",
        "# TRICKY:  Look at the string methods\n",
        "# Also an opportunity to think about how you might search for help to a problem, \n",
        "# search engines are our friend.\n",
        "article_text.split()\n",
        "len(article_text.split())"
      ],
      "execution_count": null,
      "outputs": [
        {
          "output_type": "execute_result",
          "data": {
            "text/plain": [
              "468"
            ]
          },
          "metadata": {
            "tags": []
          },
          "execution_count": 5
        }
      ]
    },
    {
      "cell_type": "code",
      "metadata": {
        "id": "9Z1ZWCq7RjWg",
        "colab": {
          "base_uri": "https://localhost:8080/"
        },
        "outputId": "8a2a1b8e-6b57-4c42-909b-1167053a3c49"
      },
      "source": [
        "# Q4:  Building on the solution above, create a list where each entry is a sentence.\n",
        "# use \".\" to define a sentence.\n",
        "a=article_text.split('.')\n",
        "list(a)\n",
        "#One discrepancy, since we're using '.' as the identifier to separate the sentences. But there is the presence of '.com' which the splits it hence making incomplete sentences."
      ],
      "execution_count": null,
      "outputs": [
        {
          "output_type": "execute_result",
          "data": {
            "text/plain": [
              "['Travel The best apple orchard in New England, according to Boston',\n",
              " \"com readers It's in Massachusetts\",\n",
              " ' A family picking apples at Honey Pot Hill Orchards in Stow in 2017',\n",
              " ' John Tlumacki / The Boston Globe\\n\\nWhen we asked Boston',\n",
              " 'com readers for the best places to pick apples in New England, more than 100 people named nearly 40 farms across five states',\n",
              " ' But there was one clear favorite',\n",
              " '\\n\\nHoney Pot Hill Orchards in Stow, which received the most mentions by far, offers more than 200 acres of orchards, as well as hayrides, mazes, and farm animals',\n",
              " ' The next most most mentioned farms by readers: Parlee Farms in Tyngsborough and Russell Orchards in Ipswich',\n",
              " '\\n\\n“The apple cider donuts are amazing,” wrote a Boston',\n",
              " 'com reader about Honey Pot Hill Orchards',\n",
              " ' “They have a petting zoo for the kids and also a pumpkin patch where you can pick your own pumpkin',\n",
              " ' Great place',\n",
              " '”\\n\\nAdvertisement:\\n\\nTwo of the farms chosen by readers — Tougas Family Farm in Northborough and Libby & Son U-Picks in Limerick, Maine, were just named among the best apple orchards in America by USA Today',\n",
              " '\\n\\nBefore plotting your apple-picking adventure this season, it’s a good idea to visit a farm’s website due to COVID-19 restrictions that may include capacity limitations, reservation requirements, and more',\n",
              " '\\n\\nAhead, check out which regional farms Boston',\n",
              " 'com readers love the most',\n",
              " ' If there’s a number in parenthesis after the name of a farm, it signifies how many times the farm was chosen by readers as the best',\n",
              " '\\n\\nMassachusetts\\n\\nAutumn Hills Orchard in Groton\\n\\nBartlett’s Orchard in Richmond\\n\\nBelkin Family Lookout Farm in Natick (6)\\n\\nBerlin Orchards in Berlin (2)\\n\\nBolton Orchards in Bolton (3)\\n\\nBolton Spring Farms in Bolton (3)\\n\\nBrookfield Orchards in North Brookfield\\n\\nBrooksby Farm in Peabody (2)\\n\\nCarlson Orchards in Harvard (5)\\n\\nCider Hill Farm in Amesbury (5)\\n\\nClarkdale Fruit Farms in Deerfield (3)\\n\\nClearview Farm in Sterling\\n\\nCN Smith Farm in East Bridgewater\\n\\nDoe Orchards in Harvard (5)\\n\\nDowse Orchards in Sherborn\\n\\nHoney Pot Hill Orchards in Stow (26)\\n\\nPark Hill Orchard in Easthampton (2)\\n\\nParlee Farms in Tyngsborough (9)\\n\\nRed Apple Farm in Phillipston (4)\\n\\nRussell Orchards in Ipswich (8)\\n\\nShelburne Farm in Stow (6)\\n\\nSmolak Farms in North Andover (5)\\n\\nTangerini’s Farm in Millis\\n\\nThe Big Apple in Wrentham (3)\\n\\nTougas Family Farm in Northborough (7)\\n\\nWestward Orchards in Harvard\\n\\nNew Hampshire\\n\\nAlyson’s Orchard in Walpole (2)\\n\\nApplecrest Farm Orchards in Hampton Falls (7)\\n\\nAppleview Orchard in Pittsfield\\n\\nBrookdale Fruit Farm in Hollis\\n\\nLull Farm in Hollis (2)\\n\\nMack’s Apples in Londonderry (6)\\n\\nVermont\\n\\nChapin Orchard in Essex Junction\\n\\nShelburne Orchards in Shelburne\\n\\nMaine\\n\\nHope Orchards in Hope\\n\\nLibby & Son U-Picks in Limerick\\n\\nMcDougal Orchards in Springvale\\n\\nRhode Island\\n\\nBarden Family Orchard in North Scituate\\n\\nAdvertisement:\\n\\nDid we miss any? Let us know your favorite in the comments below',\n",
              " '']"
            ]
          },
          "metadata": {
            "tags": []
          },
          "execution_count": 6
        }
      ]
    },
    {
      "cell_type": "code",
      "metadata": {
        "id": "urg7ESVPRx47",
        "colab": {
          "base_uri": "https://localhost:8080/"
        },
        "outputId": "97f56d97-d398-4621-a222-780ab7655a24"
      },
      "source": [
        "# Q5: How many characters are there in article_text\n",
        "len(article_text)\n",
        "\n"
      ],
      "execution_count": null,
      "outputs": [
        {
          "output_type": "execute_result",
          "data": {
            "text/plain": [
              "2893"
            ]
          },
          "metadata": {
            "tags": []
          },
          "execution_count": 7
        }
      ]
    },
    {
      "cell_type": "code",
      "metadata": {
        "id": "lJcq3d8FSKuW",
        "colab": {
          "base_uri": "https://localhost:8080/",
          "height": 35
        },
        "outputId": "99bda555-93a8-4f7c-b14b-eec4ce70ad76"
      },
      "source": [
        "# Q6: subset article_text to include only the first 100 characters\n",
        "article_text[0:100]\n"
      ],
      "execution_count": null,
      "outputs": [
        {
          "output_type": "execute_result",
          "data": {
            "application/vnd.google.colaboratory.intrinsic+json": {
              "type": "string"
            },
            "text/plain": [
              "\"Travel The best apple orchard in New England, according to Boston.com readers It's in Massachusetts.\""
            ]
          },
          "metadata": {
            "tags": []
          },
          "execution_count": 11
        }
      ]
    },
    {
      "cell_type": "markdown",
      "metadata": {
        "id": "bmQBAJ9oSVvw"
      },
      "source": [
        "# Part 2"
      ]
    },
    {
      "cell_type": "code",
      "metadata": {
        "id": "NJupRYTMbRyp"
      },
      "source": [
        "# STARTER CODE SNIPPET\n",
        "\n",
        "# our list\n",
        "our_list = [1,2,3,4,5, ['a', 'b', 'c'], 6, 7, 8, 9, 10]\n"
      ],
      "execution_count": null,
      "outputs": []
    },
    {
      "cell_type": "code",
      "metadata": {
        "id": "jF-wRjq4cOtF",
        "colab": {
          "base_uri": "https://localhost:8080/"
        },
        "outputId": "b0bf6c37-cfa0-45bd-bc1f-7eea14c3ee23"
      },
      "source": [
        "# Q1:  What is the length of the object/variable our_list?\n",
        "our_list = [1,2,3,4,5, ['a', 'b', 'c'], 6, 7, 8, 9, 10]\n",
        "len(our_list)\n"
      ],
      "execution_count": null,
      "outputs": [
        {
          "output_type": "execute_result",
          "data": {
            "text/plain": [
              "11"
            ]
          },
          "metadata": {
            "tags": []
          },
          "execution_count": 12
        }
      ]
    },
    {
      "cell_type": "code",
      "metadata": {
        "id": "Qt63uzUicQSJ",
        "colab": {
          "base_uri": "https://localhost:8080/"
        },
        "outputId": "ab212459-6f5a-41b6-f7d5-e3300b20ff9d"
      },
      "source": [
        "# Q2: Append the number 11 to the end of the list\n",
        "our_list = [1,2,3,4,5, ['a', 'b', 'c'], 6, 7, 8, 9, 10]\n",
        "our_list.append('11')\n",
        "our_list\n"
      ],
      "execution_count": null,
      "outputs": [
        {
          "output_type": "execute_result",
          "data": {
            "text/plain": [
              "[1, 2, 3, 4, 5, ['a', 'b', 'c'], 6, 7, 8, 9, 10, '11']"
            ]
          },
          "metadata": {
            "tags": []
          },
          "execution_count": 19
        }
      ]
    },
    {
      "cell_type": "code",
      "metadata": {
        "id": "Bimkvnvsd8WO",
        "colab": {
          "base_uri": "https://localhost:8080/"
        },
        "outputId": "5c3eba18-e2d5-473f-f9cf-c947145ca1f8"
      },
      "source": [
        "# Q3: remove the 11 you just added in Q2\n",
        "our_list.pop(11)\n",
        "our_list"
      ],
      "execution_count": null,
      "outputs": [
        {
          "output_type": "execute_result",
          "data": {
            "text/plain": [
              "[1, 2, 3, 4, 5, ['a', 'b', 'c'], 6, 7, 8, 9, 10]"
            ]
          },
          "metadata": {
            "tags": []
          },
          "execution_count": 21
        }
      ]
    },
    {
      "cell_type": "code",
      "metadata": {
        "id": "sKvp0HKQeG9q",
        "colab": {
          "base_uri": "https://localhost:8080/"
        },
        "outputId": "f06c25ad-f63c-4623-8b7c-843c659bb395"
      },
      "source": [
        "# Q4: Create a list that only contains the list of letters\n",
        "# call this variable letters\n",
        "variable_letters=our_list[5]\n",
        "variable_letters"
      ],
      "execution_count": null,
      "outputs": [
        {
          "output_type": "execute_result",
          "data": {
            "text/plain": [
              "['a', 'b', 'c']"
            ]
          },
          "metadata": {
            "tags": []
          },
          "execution_count": 22
        }
      ]
    },
    {
      "cell_type": "code",
      "metadata": {
        "id": "Qv1LClXBTWX6",
        "colab": {
          "base_uri": "https://localhost:8080/"
        },
        "outputId": "e9ebdcd0-a7fb-4b22-a50e-b39480488938"
      },
      "source": [
        "# reverse the variable letters\n",
        "variable_letters.reverse()\n",
        "variable_letters"
      ],
      "execution_count": null,
      "outputs": [
        {
          "output_type": "execute_result",
          "data": {
            "text/plain": [
              "['c', 'b', 'a']"
            ]
          },
          "metadata": {
            "tags": []
          },
          "execution_count": 23
        }
      ]
    },
    {
      "cell_type": "code",
      "metadata": {
        "id": "5TtqX6_hTW3A"
      },
      "source": [
        ""
      ],
      "execution_count": null,
      "outputs": []
    }
  ]
}